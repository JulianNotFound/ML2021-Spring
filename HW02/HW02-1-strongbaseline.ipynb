{
 "cells": [
  {
   "cell_type": "markdown",
   "metadata": {
    "colab_type": "text",
    "id": "view-in-github"
   },
   "source": [
    "<a href=\"https://colab.research.google.com/github/ga642381/ML2021-Spring/blob/main/HW02/HW02-1.ipynb\" target=\"_parent\"><img src=\"https://colab.research.google.com/assets/colab-badge.svg\" alt=\"Open In Colab\"/></a>"
   ]
  },
  {
   "cell_type": "markdown",
   "metadata": {
    "id": "OYlaRwNu7ojq"
   },
   "source": [
    "# **Homework 2-1 Phoneme Classification**\n",
    "\n",
    "* Slides: https://speech.ee.ntu.edu.tw/~hylee/ml/ml2021-course-data/hw/HW02/HW02.pdf\n",
    "* Video (Chinese): https://youtu.be/PdjXnQbu2zo\n",
    "* Video (English): https://youtu.be/ESRr-VCykBs\n"
   ]
  },
  {
   "cell_type": "markdown",
   "metadata": {
    "id": "emUd7uS7crTz"
   },
   "source": [
    "## The DARPA TIMIT Acoustic-Phonetic Continuous Speech Corpus (TIMIT)\n",
    "The TIMIT corpus of reading speech has been designed to provide speech data for the acquisition of acoustic-phonetic knowledge and for the development and evaluation of automatic speech recognition systems.\n",
    "\n",
    "This homework is a multiclass classification task, \n",
    "we are going to train a deep neural network classifier to predict the phonemes for each frame from the speech corpus TIMIT.\n",
    "\n",
    "link: https://academictorrents.com/details/34e2b78745138186976cbc27939b1b34d18bd5b3"
   ]
  },
  {
   "cell_type": "markdown",
   "metadata": {
    "id": "KVUGfWTo7_Oj"
   },
   "source": [
    "## Download Data\n",
    "Download data from google drive, then unzip it.\n",
    "\n",
    "You should have `timit_11/train_11.npy`, `timit_11/train_label_11.npy`, and `timit_11/test_11.npy` after running this block.<br><br>\n",
    "`timit_11/`\n",
    "- `train_11.npy`: training data<br>\n",
    "- `train_label_11.npy`: training label<br>\n",
    "- `test_11.npy`:  testing data<br><br>\n",
    "\n",
    "**notes: if the google drive link is dead, you can download the data directly from Kaggle and upload it to the workspace**\n",
    "\n",
    "\n"
   ]
  },
  {
   "cell_type": "code",
   "execution_count": 1,
   "metadata": {
    "colab": {
     "base_uri": "https://localhost:8080/"
    },
    "id": "OzkiMEcC3Foq",
    "outputId": "4308c64c-6885-4d1c-8eb7-a2d9b8038401"
   },
   "outputs": [
    {
     "name": "stdout",
     "output_type": "stream",
     "text": [
      "HW02-1.ipynb  HW02.pdf\t\t    model.ckpt\t    sampleSubmission.csv\r\n",
      "HW02-2.ipynb  ml2021spring-hw2.zip  prediction.csv  timit_11\r\n"
     ]
    }
   ],
   "source": [
    "# !gdown --id '1HPkcmQmFGu-3OknddKIa5dNDsR05lIQR' --output data.zip\n",
    "# !unzip data.zip\n",
    "!ls "
   ]
  },
  {
   "cell_type": "markdown",
   "metadata": {
    "id": "_L_4anls8Drv"
   },
   "source": [
    "## Preparing Data\n",
    "Load the training and testing data from the `.npy` file (NumPy array)."
   ]
  },
  {
   "cell_type": "code",
   "execution_count": 2,
   "metadata": {
    "colab": {
     "base_uri": "https://localhost:8080/"
    },
    "id": "IJjLT8em-y9G",
    "outputId": "8edc6bfe-7511-447f-f239-00b96dba6dcf"
   },
   "outputs": [
    {
     "name": "stdout",
     "output_type": "stream",
     "text": [
      "Loading data ...\n",
      "Size of training data: (1229932, 429)\n",
      "Size of testing data: (451552, 429)\n"
     ]
    }
   ],
   "source": [
    "import numpy as np\n",
    "\n",
    "print('Loading data ...')\n",
    "\n",
    "data_root='./timit_11/timit_11/'\n",
    "train = np.load(data_root + 'train_11.npy')\n",
    "train_label = np.load(data_root + 'train_label_11.npy')\n",
    "test = np.load(data_root + 'test_11.npy')\n",
    "\n",
    "print('Size of training data: {}'.format(train.shape))\n",
    "print('Size of testing data: {}'.format(test.shape))"
   ]
  },
  {
   "cell_type": "markdown",
   "metadata": {
    "id": "us5XW_x6udZQ"
   },
   "source": [
    "## Create Dataset"
   ]
  },
  {
   "cell_type": "code",
   "execution_count": 3,
   "metadata": {
    "id": "Fjf5EcmJtf4e"
   },
   "outputs": [],
   "source": [
    "import torch\n",
    "from torch.utils.data import Dataset\n",
    "\n",
    "class TIMITDataset(Dataset):\n",
    "    def __init__(self, X, y=None):\n",
    "        self.data = torch.from_numpy(X).float()\n",
    "        if y is not None:\n",
    "            y = y.astype(np.int)\n",
    "            self.label = torch.LongTensor(y)\n",
    "        else:\n",
    "            self.label = None\n",
    "\n",
    "    def __getitem__(self, idx):\n",
    "        if self.label is not None:\n",
    "            return self.data[idx], self.label[idx]\n",
    "        else:\n",
    "            return self.data[idx]\n",
    "\n",
    "    def __len__(self):\n",
    "        return len(self.data)\n"
   ]
  },
  {
   "cell_type": "code",
   "execution_count": 4,
   "metadata": {
    "id": "88xPiUnm0tAd"
   },
   "outputs": [],
   "source": [
    "# fix random seed\n",
    "def same_seeds(seed):\n",
    "    torch.manual_seed(seed)\n",
    "    if torch.cuda.is_available():\n",
    "        torch.cuda.manual_seed(seed)\n",
    "        torch.cuda.manual_seed_all(seed)  \n",
    "    np.random.seed(seed)  \n",
    "    torch.backends.cudnn.benchmark = False\n",
    "    torch.backends.cudnn.deterministic = True"
   ]
  },
  {
   "cell_type": "code",
   "execution_count": 5,
   "metadata": {},
   "outputs": [],
   "source": [
    "# fix random seed for reproducibility\n",
    "same_seeds(42)"
   ]
  },
  {
   "cell_type": "markdown",
   "metadata": {
    "id": "otIC6WhGeh9v"
   },
   "source": [
    "Split the labeled data into a training set and a validation set, you can modify the variable `VAL_RATIO` to change the ratio of validation data."
   ]
  },
  {
   "cell_type": "code",
   "execution_count": 6,
   "metadata": {},
   "outputs": [],
   "source": [
    "# 统计每类的样本数，对于样本少的类别数据要重复使用\n",
    "train_class = []\n",
    "id = np.arange(train.shape[0])\n",
    "for i in range(39):\n",
    "    train_class.append(id[train_label == str(i)])"
   ]
  },
  {
   "cell_type": "code",
   "execution_count": 7,
   "metadata": {
    "scrolled": true
   },
   "outputs": [
    {
     "name": "stdout",
     "output_type": "stream",
     "text": [
      "Sample data:\n",
      "\n",
      "   class   count\n",
      "       0   62708\n",
      "       1   83746\n",
      "       2   35048\n",
      "       3   59031\n",
      "       4   38930\n",
      "       5   26380\n",
      "       6    4038\n",
      "       7   73827\n",
      "       8   28797\n",
      "       9   34289\n",
      "      10   11028\n",
      "      11   11711\n",
      "      12   26790\n",
      "      13   43410\n",
      "      14   39583\n",
      "      15   11342\n",
      "      16   20922\n",
      "      17   51533\n",
      "      18   24938\n",
      "      19   47059\n",
      "      20    8508\n",
      "      21    7083\n",
      "      22    7050\n",
      "      23   10663\n",
      "      24    3883\n",
      "      25    8219\n",
      "      26    7825\n",
      "      27    6059\n",
      "      28   11492\n",
      "      29   21012\n",
      "      30   25094\n",
      "      31   31618\n",
      "      32   12003\n",
      "      33   22907\n",
      "      34    6920\n",
      "      35   84521\n",
      "      36   27088\n",
      "      37   14164\n",
      "      38  178713\n"
     ]
    }
   ],
   "source": [
    "number = 10000       #每类至少20000笔数据\n",
    "print (\"Sample data:\")\n",
    "print (\"\\n   class   count\")\n",
    "for i in range(len(train_class)):\n",
    "    print (\"{:8d}\".format(i), end='')\n",
    "    print (\"{:8d}\".format(train_class[i].shape[0]))\n",
    "    if (train_class[i].shape[0] < number):\n",
    "\n",
    "        id = np.random.choice(train_class[i], size=number-train_class[i].shape[0])\n",
    "        train = np.vstack((train, train[id]))\n",
    "        label = np.empty((id.shape[0]), dtype=int)\n",
    "        train_label = np.append(train_label, label)\n",
    "        train_label[-id.shape[0]:] = int(i)"
   ]
  },
  {
   "cell_type": "code",
   "execution_count": 8,
   "metadata": {
    "colab": {
     "base_uri": "https://localhost:8080/"
    },
    "id": "sYqi_lAuvC59",
    "outputId": "13dabe63-4849-47ee-fe04-57427b9d601c"
   },
   "outputs": [
    {
     "name": "stdout",
     "output_type": "stream",
     "text": [
      "Size of training set: (1008277, 429)\n",
      "Size of validation set: (252070, 429)\n"
     ]
    }
   ],
   "source": [
    "from sklearn.model_selection import train_test_split\n",
    "# 随机打乱\n",
    "VAL_RATIO = 0.2\n",
    "\n",
    "train_indices, valid_indices = train_test_split([i for i in range(train.shape[0])], test_size=VAL_RATIO, random_state=42)\n",
    "train_x = train[train_indices, :]\n",
    "train_y = train_label[train_indices]\n",
    "val_x = train[valid_indices, :]\n",
    "val_y = train_label[valid_indices]\n",
    "\n",
    "print('Size of training set: {}'.format(train_x.shape))\n",
    "print('Size of validation set: {}'.format(val_x.shape))"
   ]
  },
  {
   "cell_type": "markdown",
   "metadata": {
    "id": "nbCfclUIgMTX"
   },
   "source": [
    "Create a data loader from the dataset, feel free to tweak the variable `BATCH_SIZE` here."
   ]
  },
  {
   "cell_type": "code",
   "execution_count": 9,
   "metadata": {
    "id": "RUCbQvqJurYc"
   },
   "outputs": [],
   "source": [
    "BATCH_SIZE = 2048\n",
    "\n",
    "from torch.utils.data import DataLoader\n",
    "\n",
    "train_set = TIMITDataset(train_x, train_y)\n",
    "val_set = TIMITDataset(val_x, val_y)\n",
    "train_loader = DataLoader(train_set, batch_size=BATCH_SIZE, shuffle=True) #only shuffle the training data\n",
    "val_loader = DataLoader(val_set, batch_size=BATCH_SIZE, shuffle=False)"
   ]
  },
  {
   "cell_type": "markdown",
   "metadata": {
    "id": "_SY7X0lUgb50"
   },
   "source": [
    "Cleanup the unneeded variables to save memory.<br>\n",
    "\n",
    "**notes: if you need to use these variables later, then you may remove this block or clean up unneeded variables later<br>the data size is quite huge, so be aware of memory usage in colab**"
   ]
  },
  {
   "cell_type": "code",
   "execution_count": 10,
   "metadata": {
    "colab": {
     "base_uri": "https://localhost:8080/"
    },
    "id": "y8rzkGraeYeN",
    "outputId": "dc790996-a43c-4a99-90d4-e7928892a899"
   },
   "outputs": [
    {
     "data": {
      "text/plain": [
       "40"
      ]
     },
     "execution_count": 10,
     "metadata": {},
     "output_type": "execute_result"
    }
   ],
   "source": [
    "import gc\n",
    "\n",
    "del train, train_label, train_x, train_y, val_x, val_y, train_class, train_indices, valid_indices\n",
    "gc.collect()"
   ]
  },
  {
   "cell_type": "markdown",
   "metadata": {
    "id": "IRqKNvNZwe3V"
   },
   "source": [
    "## Create Model"
   ]
  },
  {
   "cell_type": "markdown",
   "metadata": {
    "id": "FYr1ng5fh9pA"
   },
   "source": [
    "Define model architecture, you are encouraged to change and experiment with the model architecture."
   ]
  },
  {
   "cell_type": "code",
   "execution_count": 11,
   "metadata": {
    "id": "lbZrwT6Ny0XL"
   },
   "outputs": [],
   "source": [
    "import torch\n",
    "import torch.nn as nn\n",
    "\n",
    "class Classifier(nn.Module):\n",
    "    def __init__(self):\n",
    "        super(Classifier, self).__init__()\n",
    "        self.net = nn.Sequential(\n",
    "            nn.BatchNorm1d(429),\n",
    "            nn.Linear(429, 1024),\n",
    "            nn.ReLU(),\n",
    "            nn.BatchNorm1d(1024),\n",
    "            nn.Dropout(p = 0.2),\n",
    "            \n",
    "            nn.Linear(1024, 512),\n",
    "            nn.ReLU(),\n",
    "            nn.BatchNorm1d(512),\n",
    "#             nn.Dropout(p = 0.1),\n",
    "            \n",
    "            nn.Linear(512, 256),\n",
    "            nn.ReLU(),\n",
    "            nn.BatchNorm1d(256),\n",
    "#             nn.Dropout(p = 0.1),\n",
    "            \n",
    "            nn.Linear(256, 128),\n",
    "            nn.ReLU(),\n",
    "            nn.BatchNorm1d(128),\n",
    "#             nn.Dropout(p = 0.1),\n",
    "            \n",
    "            nn.Linear(128, 64),\n",
    "            nn.ReLU(),\n",
    "            nn.BatchNorm1d(64),\n",
    "#             nn.Dropout(p = 0.1),\n",
    "            \n",
    "            nn.Linear(64, 39),\n",
    "            nn.Sigmoid()\n",
    "        )\n",
    "\n",
    "    def forward(self, x):\n",
    "        return self.net(x)"
   ]
  },
  {
   "cell_type": "markdown",
   "metadata": {
    "id": "VRYciXZvPbYh"
   },
   "source": [
    "## Training"
   ]
  },
  {
   "cell_type": "code",
   "execution_count": 12,
   "metadata": {
    "id": "y114Vmm3Ja6o"
   },
   "outputs": [],
   "source": [
    "#check device\n",
    "def get_device():\n",
    "  return 'cuda' if torch.cuda.is_available() else 'cpu'"
   ]
  },
  {
   "cell_type": "markdown",
   "metadata": {
    "id": "sEX-yjHjhGuH"
   },
   "source": [
    "Fix random seeds for reproducibility."
   ]
  },
  {
   "cell_type": "markdown",
   "metadata": {
    "id": "KbBcBXkSp6RA"
   },
   "source": [
    "Feel free to change the training parameters here."
   ]
  },
  {
   "cell_type": "code",
   "execution_count": 13,
   "metadata": {
    "id": "QTp3ZXg1yO9Y"
   },
   "outputs": [
    {
     "name": "stdout",
     "output_type": "stream",
     "text": [
      "DEVICE: cuda\n"
     ]
    }
   ],
   "source": [
    "# get device \n",
    "device = get_device()\n",
    "print(f'DEVICE: {device}')\n",
    "\n",
    "# training parameters\n",
    "num_epoch = 100               # number of training epoch\n",
    "learning_rate = 0.0001       # learning rate\n",
    "weight_decay_l1 = 0.0\n",
    "weight_decay_l2 = 0.0\n",
    "\n",
    "# the path where checkpoint saved\n",
    "model_path = './model.ckpt'\n",
    "\n",
    "# create model, define a loss function, and optimizer\n",
    "model = Classifier().to(device)\n",
    "criterion = nn.CrossEntropyLoss() \n",
    "# optimizer = torch.optim.SGD(model.parameters(), lr=learning_rate, momentum=0.9)"
   ]
  },
  {
   "cell_type": "code",
   "execution_count": 14,
   "metadata": {},
   "outputs": [],
   "source": [
    "def cal_regularization(model, weight_decay_l1, weight_decay_l2):\n",
    "    l1 = 0\n",
    "    l2 = 0\n",
    "    for i in model.parameters():\n",
    "        l1 += torch.sum(abs(i))\n",
    "        l2 += torch.sum(torch.pow(i, 2))\n",
    "    return weight_decay_l1 * l1 + weight_decay_l2 * l2"
   ]
  },
  {
   "cell_type": "code",
   "execution_count": 15,
   "metadata": {
    "colab": {
     "base_uri": "https://localhost:8080/"
    },
    "id": "CdMWsBs7zzNs",
    "outputId": "c5ed561e-610d-4a35-d936-fd97adf342a0",
    "scrolled": true,
    "tags": []
   },
   "outputs": [
    {
     "name": "stdout",
     "output_type": "stream",
     "text": [
      "[001/100] Train Acc: 0.485024 Loss: 3.304951 | Val Acc: 0.551755 loss: 3.219815\n",
      "saving model with acc 0.552\n",
      "[002/100] Train Acc: 0.548813 Loss: 3.180503 | Val Acc: 0.550867 loss: 3.142329\n",
      "[003/100] Train Acc: 0.543141 Loss: 3.099175 | Val Acc: 0.548915 loss: 3.056462\n",
      "[004/100] Train Acc: 0.559803 Loss: 3.017860 | Val Acc: 0.585389 loss: 2.983200\n",
      "saving model with acc 0.585\n",
      "[005/100] Train Acc: 0.590321 Loss: 2.958682 | Val Acc: 0.609462 loss: 2.936193\n",
      "saving model with acc 0.609\n",
      "[006/100] Train Acc: 0.618624 Loss: 2.924558 | Val Acc: 0.636383 loss: 2.911903\n",
      "saving model with acc 0.636\n",
      "[007/100] Train Acc: 0.639625 Loss: 2.904064 | Val Acc: 0.654394 loss: 2.895743\n",
      "saving model with acc 0.654\n",
      "[008/100] Train Acc: 0.654365 Loss: 2.890891 | Val Acc: 0.665847 loss: 2.885902\n",
      "saving model with acc 0.666\n",
      "[009/100] Train Acc: 0.665669 Loss: 2.881559 | Val Acc: 0.671401 loss: 2.878563\n",
      "saving model with acc 0.671\n",
      "[010/100] Train Acc: 0.674911 Loss: 2.874346 | Val Acc: 0.684449 loss: 2.871754\n",
      "saving model with acc 0.684\n",
      "[011/100] Train Acc: 0.684530 Loss: 2.868623 | Val Acc: 0.687325 loss: 2.867316\n",
      "saving model with acc 0.687\n",
      "[012/100] Train Acc: 0.690381 Loss: 2.863783 | Val Acc: 0.692994 loss: 2.862915\n",
      "saving model with acc 0.693\n",
      "[013/100] Train Acc: 0.696548 Loss: 2.859500 | Val Acc: 0.702975 loss: 2.860962\n",
      "saving model with acc 0.703\n",
      "[014/100] Train Acc: 0.701764 Loss: 2.855751 | Val Acc: 0.702785 loss: 2.857358\n",
      "[015/100] Train Acc: 0.705962 Loss: 2.852631 | Val Acc: 0.710311 loss: 2.854263\n",
      "saving model with acc 0.710\n",
      "[016/100] Train Acc: 0.709399 Loss: 2.849781 | Val Acc: 0.709493 loss: 2.852533\n",
      "[017/100] Train Acc: 0.713031 Loss: 2.847427 | Val Acc: 0.711362 loss: 2.851064\n",
      "saving model with acc 0.711\n",
      "[018/100] Train Acc: 0.715828 Loss: 2.845402 | Val Acc: 0.716924 loss: 2.848479\n",
      "saving model with acc 0.717\n",
      "[019/100] Train Acc: 0.719086 Loss: 2.843404 | Val Acc: 0.721442 loss: 2.847107\n",
      "saving model with acc 0.721\n",
      "[020/100] Train Acc: 0.721488 Loss: 2.841529 | Val Acc: 0.723244 loss: 2.846093\n",
      "saving model with acc 0.723\n",
      "[021/100] Train Acc: 0.723645 Loss: 2.840286 | Val Acc: 0.724168 loss: 2.845445\n",
      "saving model with acc 0.724\n",
      "[022/100] Train Acc: 0.725711 Loss: 2.838682 | Val Acc: 0.727052 loss: 2.844060\n",
      "saving model with acc 0.727\n",
      "[023/100] Train Acc: 0.727935 Loss: 2.837476 | Val Acc: 0.724454 loss: 2.843537\n",
      "[024/100] Train Acc: 0.728444 Loss: 2.836322 | Val Acc: 0.729020 loss: 2.842301\n",
      "saving model with acc 0.729\n",
      "[025/100] Train Acc: 0.730500 Loss: 2.835173 | Val Acc: 0.732273 loss: 2.841631\n",
      "saving model with acc 0.732\n",
      "[026/100] Train Acc: 0.745368 Loss: 2.827337 | Val Acc: 0.741044 loss: 2.837029\n",
      "saving model with acc 0.741\n",
      "[027/100] Train Acc: 0.750858 Loss: 2.825114 | Val Acc: 0.744674 loss: 2.836539\n",
      "saving model with acc 0.745\n",
      "[028/100] Train Acc: 0.753674 Loss: 2.824610 | Val Acc: 0.746205 loss: 2.836641\n",
      "saving model with acc 0.746\n",
      "[029/100] Train Acc: 0.755091 Loss: 2.824480 | Val Acc: 0.747638 loss: 2.837299\n",
      "saving model with acc 0.748\n",
      "[030/100] Train Acc: 0.757172 Loss: 2.824746 | Val Acc: 0.748328 loss: 2.837608\n",
      "saving model with acc 0.748\n",
      "[031/100] Train Acc: 0.758139 Loss: 2.825033 | Val Acc: 0.749320 loss: 2.838230\n",
      "saving model with acc 0.749\n",
      "[032/100] Train Acc: 0.759328 Loss: 2.825596 | Val Acc: 0.749232 loss: 2.838945\n",
      "[033/100] Train Acc: 0.760574 Loss: 2.825991 | Val Acc: 0.749629 loss: 2.839880\n",
      "saving model with acc 0.750\n",
      "[034/100] Train Acc: 0.760949 Loss: 2.826739 | Val Acc: 0.751045 loss: 2.840607\n",
      "saving model with acc 0.751\n",
      "[035/100] Train Acc: 0.762385 Loss: 2.827385 | Val Acc: 0.751918 loss: 2.841535\n",
      "saving model with acc 0.752\n",
      "[036/100] Train Acc: 0.762803 Loss: 2.828160 | Val Acc: 0.750966 loss: 2.842613\n",
      "[037/100] Train Acc: 0.763335 Loss: 2.829014 | Val Acc: 0.751803 loss: 2.843524\n",
      "[038/100] Train Acc: 0.764374 Loss: 2.829781 | Val Acc: 0.752366 loss: 2.844446\n",
      "saving model with acc 0.752\n",
      "[039/100] Train Acc: 0.764467 Loss: 2.830684 | Val Acc: 0.754100 loss: 2.845223\n",
      "saving model with acc 0.754\n",
      "[040/100] Train Acc: 0.765420 Loss: 2.831467 | Val Acc: 0.752489 loss: 2.846452\n",
      "[041/100] Train Acc: 0.765191 Loss: 2.832512 | Val Acc: 0.753160 loss: 2.847369\n",
      "[042/100] Train Acc: 0.766236 Loss: 2.833410 | Val Acc: 0.753481 loss: 2.848599\n",
      "[043/100] Train Acc: 0.766073 Loss: 2.834354 | Val Acc: 0.753969 loss: 2.849443\n",
      "[044/100] Train Acc: 0.766931 Loss: 2.835367 | Val Acc: 0.754723 loss: 2.850565\n",
      "saving model with acc 0.755\n",
      "[045/100] Train Acc: 0.767138 Loss: 2.836322 | Val Acc: 0.754453 loss: 2.851572\n",
      "[046/100] Train Acc: 0.767403 Loss: 2.837352 | Val Acc: 0.754953 loss: 2.853013\n",
      "saving model with acc 0.755\n",
      "[047/100] Train Acc: 0.768460 Loss: 2.838437 | Val Acc: 0.754846 loss: 2.854113\n",
      "[048/100] Train Acc: 0.768036 Loss: 2.839447 | Val Acc: 0.755318 loss: 2.855286\n",
      "saving model with acc 0.755\n",
      "[049/100] Train Acc: 0.768573 Loss: 2.840550 | Val Acc: 0.755032 loss: 2.856257\n",
      "[050/100] Train Acc: 0.769129 Loss: 2.841536 | Val Acc: 0.755810 loss: 2.857309\n",
      "saving model with acc 0.756\n",
      "[051/100] Train Acc: 0.769455 Loss: 2.842770 | Val Acc: 0.755925 loss: 2.858259\n",
      "saving model with acc 0.756\n",
      "[052/100] Train Acc: 0.769616 Loss: 2.843787 | Val Acc: 0.756183 loss: 2.859453\n",
      "saving model with acc 0.756\n",
      "[053/100] Train Acc: 0.769827 Loss: 2.844904 | Val Acc: 0.755489 loss: 2.860795\n",
      "[054/100] Train Acc: 0.770367 Loss: 2.845992 | Val Acc: 0.757139 loss: 2.861915\n",
      "saving model with acc 0.757\n",
      "[055/100] Train Acc: 0.770686 Loss: 2.847041 | Val Acc: 0.756861 loss: 2.863062\n",
      "[056/100] Train Acc: 0.770827 Loss: 2.848347 | Val Acc: 0.756984 loss: 2.864182\n",
      "[057/100] Train Acc: 0.771202 Loss: 2.849303 | Val Acc: 0.757024 loss: 2.865316\n",
      "[058/100] Train Acc: 0.771118 Loss: 2.850528 | Val Acc: 0.756921 loss: 2.866456\n",
      "[059/100] Train Acc: 0.771547 Loss: 2.851596 | Val Acc: 0.756710 loss: 2.867691\n",
      "[060/100] Train Acc: 0.772161 Loss: 2.852755 | Val Acc: 0.757563 loss: 2.868679\n",
      "saving model with acc 0.758\n",
      "[061/100] Train Acc: 0.771969 Loss: 2.854051 | Val Acc: 0.756837 loss: 2.870120\n",
      "[062/100] Train Acc: 0.772431 Loss: 2.855016 | Val Acc: 0.758095 loss: 2.871238\n",
      "saving model with acc 0.758\n",
      "[063/100] Train Acc: 0.772684 Loss: 2.856289 | Val Acc: 0.757936 loss: 2.872230\n",
      "[064/100] Train Acc: 0.772939 Loss: 2.857441 | Val Acc: 0.757488 loss: 2.873122\n",
      "[065/100] Train Acc: 0.772902 Loss: 2.858495 | Val Acc: 0.757805 loss: 2.874690\n",
      "[066/100] Train Acc: 0.773852 Loss: 2.859665 | Val Acc: 0.758658 loss: 2.875683\n",
      "saving model with acc 0.759\n",
      "[067/100] Train Acc: 0.773291 Loss: 2.860769 | Val Acc: 0.758317 loss: 2.877270\n",
      "[068/100] Train Acc: 0.773978 Loss: 2.861921 | Val Acc: 0.758158 loss: 2.878234\n",
      "[069/100] Train Acc: 0.774258 Loss: 2.863028 | Val Acc: 0.758845 loss: 2.879312\n",
      "saving model with acc 0.759\n",
      "[070/100] Train Acc: 0.774256 Loss: 2.864220 | Val Acc: 0.759154 loss: 2.880850\n",
      "saving model with acc 0.759\n",
      "[071/100] Train Acc: 0.774829 Loss: 2.865413 | Val Acc: 0.758543 loss: 2.881965\n",
      "[072/100] Train Acc: 0.774891 Loss: 2.866488 | Val Acc: 0.759801 loss: 2.882770\n",
      "saving model with acc 0.760\n",
      "[073/100] Train Acc: 0.775191 Loss: 2.867667 | Val Acc: 0.758908 loss: 2.883745\n",
      "[074/100] Train Acc: 0.775120 Loss: 2.868787 | Val Acc: 0.759392 loss: 2.884676\n",
      "[075/100] Train Acc: 0.775402 Loss: 2.869886 | Val Acc: 0.759535 loss: 2.886271\n",
      "[076/100] Train Acc: 0.775902 Loss: 2.871043 | Val Acc: 0.759761 loss: 2.887588\n",
      "[077/100] Train Acc: 0.776335 Loss: 2.872252 | Val Acc: 0.758448 loss: 2.888266\n",
      "[078/100] Train Acc: 0.776206 Loss: 2.873284 | Val Acc: 0.759781 loss: 2.889715\n",
      "[079/100] Train Acc: 0.776447 Loss: 2.874458 | Val Acc: 0.759587 loss: 2.890302\n",
      "[080/100] Train Acc: 0.776471 Loss: 2.875537 | Val Acc: 0.760682 loss: 2.892031\n",
      "saving model with acc 0.761\n",
      "[081/100] Train Acc: 0.777263 Loss: 2.876514 | Val Acc: 0.760444 loss: 2.892766\n",
      "[082/100] Train Acc: 0.776596 Loss: 2.877757 | Val Acc: 0.760094 loss: 2.893943\n",
      "[083/100] Train Acc: 0.776894 Loss: 2.878921 | Val Acc: 0.759971 loss: 2.895117\n",
      "[084/100] Train Acc: 0.777622 Loss: 2.879854 | Val Acc: 0.760896 loss: 2.896065\n",
      "saving model with acc 0.761\n",
      "[085/100] Train Acc: 0.777455 Loss: 2.881134 | Val Acc: 0.760372 loss: 2.897405\n",
      "[086/100] Train Acc: 0.777652 Loss: 2.882007 | Val Acc: 0.760912 loss: 2.898325\n",
      "saving model with acc 0.761\n"
     ]
    },
    {
     "name": "stdout",
     "output_type": "stream",
     "text": [
      "[087/100] Train Acc: 0.777322 Loss: 2.883220 | Val Acc: 0.760856 loss: 2.899426\n",
      "[088/100] Train Acc: 0.778617 Loss: 2.884254 | Val Acc: 0.761134 loss: 2.900215\n",
      "saving model with acc 0.761\n",
      "[089/100] Train Acc: 0.778229 Loss: 2.885338 | Val Acc: 0.760229 loss: 2.901222\n",
      "[090/100] Train Acc: 0.778235 Loss: 2.886339 | Val Acc: 0.760999 loss: 2.902770\n",
      "[091/100] Train Acc: 0.778814 Loss: 2.887333 | Val Acc: 0.760094 loss: 2.903592\n",
      "[092/100] Train Acc: 0.778743 Loss: 2.888431 | Val Acc: 0.761098 loss: 2.904687\n",
      "[093/100] Train Acc: 0.778813 Loss: 2.889554 | Val Acc: 0.760725 loss: 2.905674\n",
      "[094/100] Train Acc: 0.778713 Loss: 2.890544 | Val Acc: 0.761348 loss: 2.906827\n",
      "saving model with acc 0.761\n",
      "[095/100] Train Acc: 0.779567 Loss: 2.891590 | Val Acc: 0.762074 loss: 2.907552\n",
      "saving model with acc 0.762\n",
      "[096/100] Train Acc: 0.779023 Loss: 2.892600 | Val Acc: 0.761332 loss: 2.909085\n",
      "[097/100] Train Acc: 0.779704 Loss: 2.893586 | Val Acc: 0.761431 loss: 2.909833\n",
      "[098/100] Train Acc: 0.779609 Loss: 2.894620 | Val Acc: 0.761515 loss: 2.910741\n",
      "[099/100] Train Acc: 0.779649 Loss: 2.895597 | Val Acc: 0.761721 loss: 2.911999\n",
      "[100/100] Train Acc: 0.780084 Loss: 2.896493 | Val Acc: 0.761166 loss: 2.912393\n"
     ]
    }
   ],
   "source": [
    "# start training\n",
    "\n",
    "best_acc = 0.0\n",
    "for epoch in range(num_epoch):\n",
    "    train_acc = 0.0\n",
    "    train_loss = 0.0\n",
    "    val_acc = 0.0\n",
    "    val_loss = 0.0\n",
    "    if epoch == 0:\n",
    "        optimizer = torch.optim.Adam(model.parameters(), lr=learning_rate, weight_decay=0.002)\n",
    "    elif epoch == 25:\n",
    "        optimizer = torch.optim.SGD(model.parameters(), lr=learning_rate, momentum=0.9, weight_decay=0.01)\n",
    "    # training\n",
    "    model.train() # set the model to training mode\n",
    "    for i, data in enumerate(train_loader):\n",
    "        inputs, labels = data\n",
    "        inputs, labels = inputs.to(device), labels.to(device)\n",
    "        optimizer.zero_grad() \n",
    "        outputs = model(inputs) \n",
    "        batch_loss = criterion(outputs, labels)\n",
    "        _, train_pred = torch.max(outputs, 1) # get the index of the class with the highest probability\n",
    "        (batch_loss + cal_regularization(model, weight_decay_l1, weight_decay_l2)).backward()\n",
    "        optimizer.step() \n",
    "\n",
    "        train_acc += (train_pred.cpu() == labels.cpu()).sum().item()\n",
    "        train_loss += batch_loss.item()\n",
    "\n",
    "    # validation\n",
    "    if len(val_set) > 0:\n",
    "        model.eval() # set the model to evaluation mode\n",
    "        with torch.no_grad():\n",
    "            for i, data in enumerate(val_loader):\n",
    "                inputs, labels = data\n",
    "                inputs, labels = inputs.to(device), labels.to(device)\n",
    "                outputs = model(inputs)\n",
    "                batch_loss = criterion(outputs, labels) \n",
    "                _, val_pred = torch.max(outputs, 1) \n",
    "            \n",
    "                val_acc += (val_pred.cpu() == labels.cpu()).sum().item() # get the index of the class with the highest probability\n",
    "                val_loss += batch_loss.item()\n",
    "\n",
    "            print('[{:03d}/{:03d}] Train Acc: {:3.6f} Loss: {:3.6f} | Val Acc: {:3.6f} loss: {:3.6f}'.format(\n",
    "                epoch + 1, num_epoch, train_acc/len(train_set), train_loss/len(train_loader), val_acc/len(val_set), val_loss/len(val_loader)\n",
    "            ))\n",
    "\n",
    "            # if the model improves, save a checkpoint at this epoch\n",
    "            if val_acc > best_acc:\n",
    "                best_acc = val_acc\n",
    "                torch.save(model.state_dict(), model_path)\n",
    "                print('saving model with acc {:.3f}'.format(best_acc/len(val_set)))\n",
    "    else:\n",
    "        print('[{:03d}/{:03d}] Train Acc: {:3.6f} Loss: {:3.6f}'.format(\n",
    "            epoch + 1, num_epoch, train_acc/len(train_set), train_loss/len(train_loader)\n",
    "        ))\n",
    "\n",
    "# if not validating, save the last epoch\n",
    "if len(val_set) == 0:\n",
    "    torch.save(model.state_dict(), model_path)\n",
    "    print('saving model at last epoch')\n"
   ]
  },
  {
   "cell_type": "markdown",
   "metadata": {
    "id": "1Hi7jTn3PX-m"
   },
   "source": [
    "## Testing"
   ]
  },
  {
   "cell_type": "markdown",
   "metadata": {
    "id": "NfUECMFCn5VG"
   },
   "source": [
    "Create a testing dataset, and load model from the saved checkpoint."
   ]
  },
  {
   "cell_type": "code",
   "execution_count": 16,
   "metadata": {
    "colab": {
     "base_uri": "https://localhost:8080/"
    },
    "id": "1PKjtAScPWtr",
    "outputId": "8c17272b-536a-4692-a95f-a3292766c698"
   },
   "outputs": [
    {
     "data": {
      "text/plain": [
       "<All keys matched successfully>"
      ]
     },
     "execution_count": 16,
     "metadata": {},
     "output_type": "execute_result"
    }
   ],
   "source": [
    "# create testing dataset\n",
    "test_set = TIMITDataset(test, None)\n",
    "test_loader = DataLoader(test_set, batch_size=BATCH_SIZE, shuffle=False)\n",
    "\n",
    "# create model and load weights from checkpoint\n",
    "model = Classifier().to(device)\n",
    "model.load_state_dict(torch.load(model_path))"
   ]
  },
  {
   "cell_type": "markdown",
   "metadata": {
    "id": "940TtCCdoYd0"
   },
   "source": [
    "Make prediction."
   ]
  },
  {
   "cell_type": "code",
   "execution_count": 17,
   "metadata": {
    "id": "84HU5GGjPqR0"
   },
   "outputs": [],
   "source": [
    "predict = []\n",
    "model.eval() # set the model to evaluation mode\n",
    "with torch.no_grad():\n",
    "    for i, data in enumerate(test_loader):\n",
    "        inputs = data\n",
    "        inputs = inputs.to(device)\n",
    "        outputs = model(inputs)\n",
    "        _, test_pred = torch.max(outputs, 1) # get the index of the class with the highest probability\n",
    "\n",
    "        for y in test_pred.cpu().numpy():\n",
    "            predict.append(y)"
   ]
  },
  {
   "cell_type": "markdown",
   "metadata": {
    "id": "AWDf_C-omElb"
   },
   "source": [
    "Write prediction to a CSV file.\n",
    "\n",
    "After finish running this block, download the file `prediction.csv` from the files section on the left-hand side and submit it to Kaggle."
   ]
  },
  {
   "cell_type": "code",
   "execution_count": 18,
   "metadata": {
    "id": "GuljYSPHcZir"
   },
   "outputs": [],
   "source": [
    "with open('prediction.csv', 'w') as f:\n",
    "    f.write('Id,Class\\n')\n",
    "    for i, y in enumerate(predict):\n",
    "        f.write('{},{}\\n'.format(i, y))"
   ]
  }
 ],
 "metadata": {
  "accelerator": "GPU",
  "colab": {
   "collapsed_sections": [],
   "include_colab_link": true,
   "name": "SHARE MLSpring2021 - HW2-1.ipynb",
   "provenance": []
  },
  "kernelspec": {
   "display_name": "torch(nightly)",
   "language": "python",
   "name": "conda-torch"
  },
  "language_info": {
   "codemirror_mode": {
    "name": "ipython",
    "version": 3
   },
   "file_extension": ".py",
   "mimetype": "text/x-python",
   "name": "python",
   "nbconvert_exporter": "python",
   "pygments_lexer": "ipython3",
   "version": "3.8.5"
  }
 },
 "nbformat": 4,
 "nbformat_minor": 4
}
