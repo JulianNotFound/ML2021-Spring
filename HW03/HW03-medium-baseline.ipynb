{
 "cells": [
  {
   "cell_type": "markdown",
   "metadata": {
    "id": "D_a2USyd4giE"
   },
   "source": [
    "# **Homework 3 - Convolutional Neural Network**\n",
    "\n",
    "This is the example code of homework 3 of the machine learning course by Prof. Hung-yi Lee.\n",
    "\n",
    "In this homework, you are required to build a convolutional neural network for image classification, possibly with some advanced training tips.\n",
    "\n",
    "\n",
    "There are three levels here:\n",
    "\n",
    "**Easy**: Build a simple convolutional neural network as the baseline. (2 pts)\n",
    "\n",
    "**Medium**: Design a better architecture or adopt different data augmentations to improve the performance. (2 pts)\n",
    "\n",
    "**Hard**: Utilize provided unlabeled data to obtain better results. (2 pts)"
   ]
  },
  {
   "cell_type": "markdown",
   "metadata": {
    "id": "VHpJocsDr6iA"
   },
   "source": [
    "## **About the Dataset**\n",
    "\n",
    "The dataset used here is food-11, a collection of food images in 11 classes.\n",
    "\n",
    "For the requirement in the homework, TAs slightly modified the data.\n",
    "Please DO NOT access the original fully-labeled training data or testing labels.\n",
    "\n",
    "Also, the modified dataset is for this course only, and any further distribution or commercial use is forbidden."
   ]
  },
  {
   "cell_type": "code",
   "execution_count": 1,
   "metadata": {
    "id": "zhzdomRTOKoJ"
   },
   "outputs": [],
   "source": [
    "# # Download the dataset\n",
    "# # You may choose where to download the data.\n",
    "\n",
    "# # Google Drive\n",
    "# !gdown --id '1awF7pZ9Dz7X1jn1_QAiKN-_v56veCEKy' --output food-11.zip\n",
    "\n",
    "# # Dropbox\n",
    "# # !wget https://www.dropbox.com/s/m9q6273jl3djall/food-11.zip -O food-11.zip\n",
    "\n",
    "# # MEGA\n",
    "# # !sudo apt install megatools\n",
    "# # !megadl \"https://mega.nz/#!zt1TTIhK!ZuMbg5ZjGWzWX1I6nEUbfjMZgCmAgeqJlwDkqdIryfg\"\n",
    "\n",
    "# # Unzip the dataset.\n",
    "# # This may take some time.\n",
    "# !unzip -q food-11.zip"
   ]
  },
  {
   "cell_type": "markdown",
   "metadata": {
    "id": "BBVSCWWhp6uq"
   },
   "source": [
    "## **Import Packages**\n",
    "\n",
    "First, we need to import packages that will be used later.\n",
    "\n",
    "In this homework, we highly rely on **torchvision**, a library of PyTorch."
   ]
  },
  {
   "cell_type": "code",
   "execution_count": 2,
   "metadata": {
    "id": "9sVrKci4PUFW"
   },
   "outputs": [],
   "source": [
    "# Import necessary packages.\n",
    "import numpy as np\n",
    "import torch\n",
    "import torch.nn as nn\n",
    "import torchvision.transforms as transforms\n",
    "from PIL import Image\n",
    "# \"ConcatDataset\" and \"Subset\" are possibly useful when doing semi-supervised learning.\n",
    "from torch.utils.data import ConcatDataset, DataLoader, Subset\n",
    "from torchvision.datasets import DatasetFolder\n",
    "\n",
    "# This is for the progress bar.\n",
    "# from tqdm.auto import tqdm"
   ]
  },
  {
   "cell_type": "markdown",
   "metadata": {
    "id": "F0i9ZCPrOVN_"
   },
   "source": [
    "## **Dataset, Data Loader, and Transforms**\n",
    "\n",
    "Torchvision provides lots of useful utilities for image preprocessing, data wrapping as well as data augmentation.\n",
    "\n",
    "Here, since our data are stored in folders by class labels, we can directly apply **torchvision.datasets.DatasetFolder** for wrapping data without much effort.\n",
    "\n",
    "Please refer to [PyTorch official website](https://pytorch.org/vision/stable/transforms.html) for details about different transforms."
   ]
  },
  {
   "cell_type": "code",
   "execution_count": 3,
   "metadata": {
    "id": "gKd2abixQghI"
   },
   "outputs": [],
   "source": [
    "# It is important to do data augmentation in training.\n",
    "# However, not every augmentation is useful.\n",
    "# Please think about what kind of augmentation is helpful for food recognition.\n",
    "train_tfm = transforms.Compose([\n",
    "    # Resize the image into a fixed shape (height = width = 128)\n",
    "    transforms.Resize((128, 128)),\n",
    "    # You may add some transforms here.\n",
    "    transforms.RandomApply([\n",
    "#         transforms.ColorJitter(hue=0.5),\n",
    "#         transforms.RandomHorizontalFlip(),\n",
    "        transforms.GaussianBlur(kernel_size=(5, 5), sigma=(0.1, 5)),\n",
    "#          transforms.RandomPosterize(bits=2),\n",
    "         transforms.RandomAdjustSharpness(sharpness_factor=2),\n",
    "         transforms.RandomAutocontrast(),\n",
    "         transforms.RandomRotation(20),\n",
    "        ], p=0.4),\n",
    "    # ToTensor() should be the last one of the transforms.\n",
    "    transforms.ToTensor(),\n",
    "])\n",
    "train_tfm_flip = transforms.Compose([\n",
    "    transforms.Resize((128, 128)),\n",
    "    transforms.RandomHorizontalFlip(p=1),\n",
    "    transforms.RandomApply([\n",
    "#         transforms.ColorJitter(hue=0.5),\n",
    "# #         transforms.RandomHorizontalFlip(),\n",
    "        transforms.GaussianBlur(kernel_size=(5, 5), sigma=(0.1, 5)),\n",
    "#         transforms.RandomPosterize(bits=2),\n",
    "        transforms.RandomAdjustSharpness(sharpness_factor=2),\n",
    "        transforms.RandomAutocontrast(),\n",
    "        transforms.RandomRotation(20),\n",
    "    ], p=0.4),\n",
    "    transforms.ToTensor(),\n",
    "])\n",
    "train_tfm_rotate = transforms.Compose([\n",
    "    transforms.Resize((128, 128)),\n",
    "    transforms.RandomRotation(15),\n",
    "    transforms.RandomApply([\n",
    "#         transforms.ColorJitter(hue=0.5),\n",
    "        transforms.RandomHorizontalFlip(),\n",
    "        transforms.GaussianBlur(kernel_size=(5, 5), sigma=(0.1, 5)),\n",
    "#         transforms.RandomPosterize(bits=2),\n",
    "        transforms.RandomAdjustSharpness(sharpness_factor=2),\n",
    "        transforms.RandomAutocontrast(),\n",
    "#         transforms.RandomRotation(15),\n",
    "    ], p=0.4),\n",
    "    transforms.ToTensor(),\n",
    "])\n",
    "\n",
    "# We don't need augmentations in testing and validation.\n",
    "# All we need here is to resize the PIL image and transform it into Tensor.\n",
    "test_tfm = transforms.Compose([\n",
    "    transforms.Resize((128, 128)),\n",
    "    transforms.ToTensor(),\n",
    "])\n"
   ]
  },
  {
   "cell_type": "code",
   "execution_count": 4,
   "metadata": {
    "id": "qz6jeMnkQl0_"
   },
   "outputs": [],
   "source": [
    "# Batch size for training, validation, and testing.\n",
    "# A greater batch size usually gives a more stable gradient.\n",
    "# But the GPU memory is limited, so please adjust it carefully.\n",
    "batch_size = 128\n",
    "\n",
    "# Construct datasets.\n",
    "# The argument \"loader\" tells how torchvision reads the data.\n",
    "train_set_0 = DatasetFolder(\"food-11/training/labeled\", loader=lambda x: Image.open(x), extensions=\"jpg\", transform=train_tfm)\n",
    "train_set_1 = DatasetFolder(\"food-11/training/labeled\", loader=lambda x: Image.open(x), extensions=\"jpg\", transform=train_tfm_flip)\n",
    "train_set_2 = DatasetFolder(\"food-11/training/labeled\", loader=lambda x: Image.open(x), extensions=\"jpg\", transform=train_tfm_rotate)\n",
    "valid_set = DatasetFolder(\"food-11/validation\", loader=lambda x: Image.open(x), extensions=\"jpg\", transform=test_tfm)\n",
    "unlabeled_set = DatasetFolder(\"food-11/training/unlabeled\", loader=lambda x: Image.open(x), extensions=\"jpg\", transform=test_tfm)\n",
    "test_set = DatasetFolder(\"food-11/testing\", loader=lambda x: Image.open(x), extensions=\"jpg\", transform=test_tfm)\n",
    "\n",
    "train_set = ConcatDataset([train_set_0, Subset(train_set_1, range(280*0, 280*1)), train_set_2])\n",
    "\n",
    "# Construct data loaders.\n",
    "train_loader = DataLoader(train_set, batch_size=batch_size, shuffle=True, num_workers=8)\n",
    "valid_loader = DataLoader(valid_set, batch_size=batch_size, shuffle=True, num_workers=8)\n",
    "test_loader = DataLoader(test_set, batch_size=batch_size, shuffle=False)"
   ]
  },
  {
   "cell_type": "markdown",
   "metadata": {
    "id": "j9YhZo7POPYG"
   },
   "source": [
    "## **Model**\n",
    "\n",
    "The basic model here is simply a stack of convolutional layers followed by some fully-connected layers.\n",
    "\n",
    "Since there are three channels for a color image (RGB), the input channels of the network must be three.\n",
    "In each convolutional layer, typically the channels of inputs grow, while the height and width shrink (or remain unchanged, according to some hyperparameters like stride and padding).\n",
    "\n",
    "Before fed into fully-connected layers, the feature map must be flattened into a single one-dimensional vector (for each image).\n",
    "These features are then transformed by the fully-connected layers, and finally, we obtain the \"logits\" for each class.\n",
    "\n",
    "### **WARNING -- You Must Know**\n",
    "You are free to modify the model architecture here for further improvement.\n",
    "However, if you want to use some well-known architectures such as ResNet50, please make sure **NOT** to load the pre-trained weights.\n",
    "Using such pre-trained models is considered cheating and therefore you will be punished.\n",
    "Similarly, it is your responsibility to make sure no pre-trained weights are used if you use **torch.hub** to load any modules.\n",
    "\n",
    "For example, if you use ResNet-18 as your model:\n",
    "\n",
    "model = torchvision.models.resnet18(pretrained=**False**) → This is fine.\n",
    "\n",
    "model = torchvision.models.resnet18(pretrained=**True**)  → This is **NOT** allowed."
   ]
  },
  {
   "cell_type": "code",
   "execution_count": 5,
   "metadata": {
    "id": "Y1c-GwrMQqMl"
   },
   "outputs": [],
   "source": [
    "class Classifier(nn.Module):\n",
    "    def __init__(self):\n",
    "        super(Classifier, self).__init__()\n",
    "        # The arguments for commonly used modules:\n",
    "        # torch.nn.Conv2d(in_channels, out_channels, kernel_size, stride, padding)\n",
    "        # torch.nn.MaxPool2d(kernel_size, stride, padding)\n",
    "\n",
    "        # input image size: [3, 128, 128]\n",
    "        self.cnn_layers = nn.Sequential(\n",
    "            nn.Conv2d(3, 16, 3, 1, 1),\n",
    "            nn.BatchNorm2d(16),\n",
    "            nn.ReLU(),\n",
    "            nn.Conv2d(16, 16, 3, 1, 1),\n",
    "            nn.ReLU(),\n",
    "            nn.MaxPool2d(2, 2, 0),\n",
    "            nn.Dropout(p=0.2),\n",
    "\n",
    "            nn.Conv2d(16, 32, 3, 1, 1),\n",
    "            nn.BatchNorm2d(32),\n",
    "            nn.ReLU(),\n",
    "            nn.MaxPool2d(2, 2, 0),\n",
    "            nn.Dropout(p=0.1),\n",
    "            \n",
    "            nn.Conv2d(32, 64, 3, 1, 1),\n",
    "            nn.BatchNorm2d(64),\n",
    "            nn.ReLU(),\n",
    "            nn.MaxPool2d(2, 2, 0),\n",
    "            nn.Dropout(p=0.1),\n",
    "            \n",
    "            nn.Conv2d(64, 128, 3, 1, 1),\n",
    "#             nn.BatchNorm2d(128),\n",
    "            nn.ReLU(),\n",
    "            nn.MaxPool2d(2, 2, 0),\n",
    "            nn.Dropout(p=0.1),\n",
    "        )\n",
    "        self.fc_layers = nn.Sequential(\n",
    "            nn.Linear(128 * 8 * 8, 1024),\n",
    "            nn.BatchNorm1d(1024),\n",
    "            nn.ReLU(),\n",
    "            nn.Dropout(0.5),\n",
    "            \n",
    "            nn.Linear(1024, 256),\n",
    "            nn.BatchNorm1d(256),\n",
    "            nn.ReLU(),\n",
    "            nn.Dropout(0.3),\n",
    "            \n",
    "            nn.Linear(256, 64),\n",
    "            nn.BatchNorm1d(64),\n",
    "            nn.ReLU(),\n",
    "            nn.Dropout(0.1),\n",
    "            \n",
    "            nn.Linear(64, 16),\n",
    "            nn.BatchNorm1d(16),\n",
    "            nn.ReLU(),\n",
    "            nn.Dropout(0.1),\n",
    "            \n",
    "            nn.Linear(16, 11),\n",
    "            nn.Sigmoid(),\n",
    "        )\n",
    "\n",
    "    def forward(self, x):\n",
    "        # input (x): [batch_size, 3, 128, 128]\n",
    "        # output: [batch_size, 11]\n",
    "\n",
    "        # Extract features by convolutional layers.\n",
    "        x = self.cnn_layers(x)\n",
    "\n",
    "        # The extracted feature map must be flatten before going to fully-connected layers.\n",
    "        x = x.flatten(1)\n",
    "\n",
    "        # The features are transformed by fully-connected layers to obtain the final logits.\n",
    "        x = self.fc_layers(x)\n",
    "        return x"
   ]
  },
  {
   "cell_type": "markdown",
   "metadata": {
    "id": "aEnGbriXORN3"
   },
   "source": [
    "## **Training**\n",
    "\n",
    "You can finish supervised learning by simply running the provided code without any modification.\n",
    "\n",
    "The function \"get_pseudo_labels\" is used for semi-supervised learning.\n",
    "It is expected to get better performance if you use unlabeled data for semi-supervised learning.\n",
    "However, you have to implement the function on your own and need to adjust several hyperparameters manually.\n",
    "\n",
    "For more details about semi-supervised learning, please refer to [Prof. Lee's slides](https://speech.ee.ntu.edu.tw/~tlkagk/courses/ML_2016/Lecture/semi%20(v3).pdf).\n",
    "\n",
    "Again, please notice that utilizing external data (or pre-trained model) for training is **prohibited**."
   ]
  },
  {
   "cell_type": "code",
   "execution_count": 6,
   "metadata": {},
   "outputs": [],
   "source": [
    "class PseudoDataset(torch.utils.data.Dataset):\n",
    "    def __init__(self, x, y):\n",
    "        self.x = x\n",
    "        self.y = y\n",
    "\n",
    "    def __len__(self):\n",
    "        return len(self.y)\n",
    "\n",
    "    def __getitem__(self, id):\n",
    "        return self.x[id], self.y[id]"
   ]
  },
  {
   "cell_type": "code",
   "execution_count": 7,
   "metadata": {
    "id": "swlf5EwA-hxA"
   },
   "outputs": [],
   "source": [
    "def get_pseudo_labels(dataset, model, threshold=0.65):\n",
    "    # This functions generates pseudo-labels of a dataset using given model.\n",
    "    # It returns an instance of DatasetFolder containing images whose prediction confidences exceed a given threshold.\n",
    "    # You are NOT allowed to use any models trained on external data for pseudo-labeling.\n",
    "    device = \"cuda\" if torch.cuda.is_available() else \"cpu\"\n",
    "\n",
    "    # Construct a data loader.\n",
    "    data_loader = DataLoader(dataset, batch_size=batch_size, shuffle=False)\n",
    "\n",
    "    # Make sure the model is in eval mode.\n",
    "    model.eval()\n",
    "    \n",
    "    masked_data_list = []\n",
    "    masked_label_list = []\n",
    "    # Iterate over the dataset by batches.\n",
    "    for i, batch in enumerate(data_loader):\n",
    "        img, _ = batch\n",
    "\n",
    "        # Forward the data\n",
    "        # Using torch.no_grad() accelerates the forward process.\n",
    "        with torch.no_grad():\n",
    "            logits = model(img.to(device))\n",
    "\n",
    "        # Obtain the probability distributions by applying softmax on logits.\n",
    "        max_info = torch.max(logits, dim=1)\n",
    "\n",
    "        # ---------- TODO ----------\n",
    "        # Filter the data and construct a new dataset.\n",
    "        masked_data_list.append(img[max_info.values>threshold])\n",
    "        masked_label_list.append(max_info.indices[max_info.values>threshold])\n",
    "\n",
    "    # # Turn off the eval mode.\n",
    "    model.train()\n",
    "    return PseudoDataset(torch.cat(masked_data_list), torch.cat(masked_label_list).cpu().numpy())"
   ]
  },
  {
   "cell_type": "code",
   "execution_count": 8,
   "metadata": {
    "id": "PHaFE-8oQtkC",
    "scrolled": true
   },
   "outputs": [
    {
     "name": "stderr",
     "output_type": "stream",
     "text": [
      "/opt/conda/envs/pytorch/lib/python3.8/site-packages/torch/nn/functional.py:718: UserWarning: Named tensors and all their associated APIs are an experimental feature and subject to change. Please do not use them for anything important until they are released as stable. (Triggered internally at  /opt/conda/conda-bld/pytorch_1623448278899/work/c10/core/TensorImpl.h:1156.)\n",
      "  return torch.max_pool2d(input, kernel_size, stride, padding, dilation, ceil_mode)\n"
     ]
    },
    {
     "name": "stdout",
     "output_type": "stream",
     "text": [
      "[ Train | 001/050 ] loss = 1.59000, acc = 0.96605\t[ Valid | 001/050 ] loss = 1.93764, acc = 0.58177\n",
      "save model\n",
      "[ Train | 002/050 ] loss = 1.58808, acc = 0.97044\t[ Valid | 002/050 ] loss = 1.95133, acc = 0.57005\n",
      "[ Train | 003/050 ] loss = 1.59058, acc = 0.96513\t[ Valid | 003/050 ] loss = 1.94250, acc = 0.56823\n",
      "[ Train | 004/050 ] loss = 1.58564, acc = 0.97528\t[ Valid | 004/050 ] loss = 1.93872, acc = 0.60781\n",
      "save model\n",
      "[ Train | 005/050 ] loss = 1.58933, acc = 0.96915\t[ Valid | 005/050 ] loss = 1.94020, acc = 0.57865\n",
      "[ Train | 006/050 ] loss = 1.58798, acc = 0.96924\t[ Valid | 006/050 ] loss = 1.92398, acc = 0.60469\n",
      "[ Train | 007/050 ] loss = 1.58886, acc = 0.96850\t[ Valid | 007/050 ] loss = 1.93497, acc = 0.58516\n",
      "[ Train | 008/050 ] loss = 1.58675, acc = 0.97408\t[ Valid | 008/050 ] loss = 1.97096, acc = 0.55234\n",
      "[ Train | 009/050 ] loss = 1.59043, acc = 0.96556\t[ Valid | 009/050 ] loss = 1.91729, acc = 0.59714\n",
      "[ Train | 010/050 ] loss = 1.58807, acc = 0.97074\t[ Valid | 010/050 ] loss = 1.93388, acc = 0.58620\n",
      "[ Train | 011/050 ] loss = 1.58897, acc = 0.97065\t[ Valid | 011/050 ] loss = 1.94464, acc = 0.56771\n",
      "[ Train | 012/050 ] loss = 1.59116, acc = 0.96342\t[ Valid | 012/050 ] loss = 1.93671, acc = 0.59036\n",
      "[ Train | 013/050 ] loss = 1.59280, acc = 0.96581\t[ Valid | 013/050 ] loss = 1.91256, acc = 0.61354\n",
      "save model\n",
      "[ Train | 014/050 ] loss = 1.59069, acc = 0.96654\t[ Valid | 014/050 ] loss = 1.94645, acc = 0.55651\n",
      "[ Train | 015/050 ] loss = 1.59187, acc = 0.96360\t[ Valid | 015/050 ] loss = 1.95313, acc = 0.55625\n",
      "[ Train | 016/050 ] loss = 1.59029, acc = 0.96682\t[ Valid | 016/050 ] loss = 1.92279, acc = 0.59609\n",
      "[ Train | 017/050 ] loss = 1.58936, acc = 0.96817\t[ Valid | 017/050 ] loss = 1.94653, acc = 0.57161\n",
      "[ Train | 018/050 ] loss = 1.58643, acc = 0.97304\t[ Valid | 018/050 ] loss = 1.91935, acc = 0.59401\n",
      "[ Train | 019/050 ] loss = 1.59030, acc = 0.96811\t[ Valid | 019/050 ] loss = 1.97753, acc = 0.53281\n",
      "[ Train | 020/050 ] loss = 1.59090, acc = 0.96688\t[ Valid | 020/050 ] loss = 1.94053, acc = 0.58438\n",
      "[ Train | 021/050 ] loss = 1.58779, acc = 0.97010\t[ Valid | 021/050 ] loss = 1.94518, acc = 0.56823\n",
      "[ Train | 022/050 ] loss = 1.59203, acc = 0.96532\t[ Valid | 022/050 ] loss = 1.97040, acc = 0.55417\n",
      "[ Train | 023/050 ] loss = 1.58875, acc = 0.96939\t[ Valid | 023/050 ] loss = 1.92928, acc = 0.58438\n",
      "[ Train | 024/050 ] loss = 1.58914, acc = 0.96881\t[ Valid | 024/050 ] loss = 1.96614, acc = 0.55807\n",
      "[ Train | 025/050 ] loss = 1.58803, acc = 0.96608\t[ Valid | 025/050 ] loss = 1.96452, acc = 0.54948\n",
      "[ Train | 026/050 ] loss = 1.58463, acc = 0.97316\t[ Valid | 026/050 ] loss = 1.92001, acc = 0.61719\n",
      "save model\n",
      "[ Train | 027/050 ] loss = 1.58884, acc = 0.96832\t[ Valid | 027/050 ] loss = 1.95926, acc = 0.56120\n",
      "[ Train | 028/050 ] loss = 1.58921, acc = 0.96893\t[ Valid | 028/050 ] loss = 1.93411, acc = 0.59323\n",
      "[ Train | 029/050 ] loss = 1.58879, acc = 0.97031\t[ Valid | 029/050 ] loss = 1.92758, acc = 0.60495\n",
      "[ Train | 030/050 ] loss = 1.58890, acc = 0.96881\t[ Valid | 030/050 ] loss = 1.94683, acc = 0.57135\n",
      "[ Train | 031/050 ] loss = 1.59295, acc = 0.96339\t[ Valid | 031/050 ] loss = 1.92648, acc = 0.61016\n",
      "[ Train | 032/050 ] loss = 1.58761, acc = 0.97074\t[ Valid | 032/050 ] loss = 1.96152, acc = 0.56589\n",
      "[ Train | 033/050 ] loss = 1.58435, acc = 0.97289\t[ Valid | 033/050 ] loss = 1.95938, acc = 0.56146\n",
      "[ Train | 034/050 ] loss = 1.58869, acc = 0.96924\t[ Valid | 034/050 ] loss = 1.93771, acc = 0.56745\n",
      "[ Train | 035/050 ] loss = 1.58508, acc = 0.97316\t[ Valid | 035/050 ] loss = 1.92417, acc = 0.60260\n",
      "[ Train | 036/050 ] loss = 1.58878, acc = 0.96866\t[ Valid | 036/050 ] loss = 1.93916, acc = 0.58047\n",
      "[ Train | 037/050 ] loss = 1.58728, acc = 0.96991\t[ Valid | 037/050 ] loss = 1.92860, acc = 0.58568\n",
      "[ Train | 038/050 ] loss = 1.59084, acc = 0.96743\t[ Valid | 038/050 ] loss = 1.94606, acc = 0.58307\n",
      "[ Train | 039/050 ] loss = 1.58434, acc = 0.97350\t[ Valid | 039/050 ] loss = 1.94942, acc = 0.55729\n",
      "[ Train | 040/050 ] loss = 1.58898, acc = 0.96823\t[ Valid | 040/050 ] loss = 1.95559, acc = 0.55208\n",
      "[ Train | 041/050 ] loss = 1.58418, acc = 0.97466\t[ Valid | 041/050 ] loss = 1.94008, acc = 0.58229\n",
      "[ Train | 042/050 ] loss = 1.58830, acc = 0.96890\t[ Valid | 042/050 ] loss = 1.96669, acc = 0.54089\n",
      "[ Train | 043/050 ] loss = 1.58753, acc = 0.97175\t[ Valid | 043/050 ] loss = 1.91906, acc = 0.60625\n",
      "[ Train | 044/050 ] loss = 1.59076, acc = 0.96517\t[ Valid | 044/050 ] loss = 1.96214, acc = 0.56250\n",
      "[ Train | 045/050 ] loss = 1.58609, acc = 0.97286\t[ Valid | 045/050 ] loss = 1.95346, acc = 0.56693\n",
      "[ Train | 046/050 ] loss = 1.58655, acc = 0.97074\t[ Valid | 046/050 ] loss = 1.92122, acc = 0.59870\n",
      "[ Train | 047/050 ] loss = 1.58400, acc = 0.97420\t[ Valid | 047/050 ] loss = 1.93189, acc = 0.59401\n",
      "[ Train | 048/050 ] loss = 1.58503, acc = 0.97335\t[ Valid | 048/050 ] loss = 1.95575, acc = 0.58958\n",
      "[ Train | 049/050 ] loss = 1.58449, acc = 0.97595\t[ Valid | 049/050 ] loss = 1.96159, acc = 0.56094\n",
      "[ Train | 050/050 ] loss = 1.58734, acc = 0.97163\t[ Valid | 050/050 ] loss = 1.92680, acc = 0.58958\n"
     ]
    }
   ],
   "source": [
    "# \"cuda\" only when GPUs are available.\n",
    "device = \"cuda\" if torch.cuda.is_available() else \"cpu\"\n",
    "\n",
    "# Initialize a model, and put it on the device specified.\n",
    "model = Classifier().to(device)\n",
    "model.device = device\n",
    "model_path = 'model.pth'\n",
    "model.load_state_dict(torch.load(model_path))\n",
    "\n",
    "# For the classification task, we use cross-entropy as the measurement of performance.\n",
    "criterion = nn.CrossEntropyLoss()\n",
    "\n",
    "# Initialize optimizer, you may fine-tune some hyperparameters such as learning rate on your own.\n",
    "optimizer = torch.optim.Adam(model.parameters(), lr=0.0002, weight_decay=1e-3)\n",
    "\n",
    "# The number of training epochs.\n",
    "n_epochs = 50\n",
    "\n",
    "# Whether to do semi-supervised learning.\n",
    "do_semi = False\n",
    "\n",
    "best_acc = 0.0\n",
    "train_loss_record = []\n",
    "valid_loss_record = []\n",
    "train_acc_record = []\n",
    "valid_acc_record = []\n",
    "\n",
    "# if do_semi:\n",
    "#     # Obtain pseudo-labels for unlabeled data using trained model.\n",
    "#     pseudo_set = get_pseudo_labels(unlabeled_set, model)\n",
    "\n",
    "#     # Construct a new dataset and a data loader for training.\n",
    "#     # This is used in semi-supervised learning only.\n",
    "#     concat_dataset = ConcatDataset([train_set, pseudo_set])\n",
    "#     train_loader = DataLoader(concat_dataset, batch_size=batch_size, shuffle=True, num_workers=8)\n",
    "\n",
    "for epoch in range(n_epochs):\n",
    "    # ---------- TODO ----------\n",
    "    # In each epoch, relabel the unlabeled dataset for semi-supervised learning.\n",
    "    # Then you can combine the labeled dataset and pseudo-labeled dataset for the training.\n",
    "\n",
    "    if epoch == 100:\n",
    "        optimizer = torch.optim.Adam(model.parameters(), lr=0.0001, weight_decay=1e-4)\n",
    "    \n",
    "    # ---------- Training ----------\n",
    "    # Make sure the model is in train mode before training.\n",
    "    model.train()\n",
    "\n",
    "    # These are used to record information in training.\n",
    "    train_loss = []\n",
    "    train_accs = []\n",
    "\n",
    "    # Iterate the training set by batches.\n",
    "    for batch in train_loader:\n",
    "\n",
    "        # A batch consists of image data and corresponding labels.\n",
    "        imgs, labels = batch\n",
    "\n",
    "        # Forward the data. (Make sure data and model are on the same device.)\n",
    "        logits = model(imgs.to(device))\n",
    "\n",
    "        # Calculate the cross-entropy loss.\n",
    "        # We don't need to apply softmax before computing cross-entropy as it is done automatically.\n",
    "        loss = criterion(logits, labels.to(device))\n",
    "\n",
    "        # Gradients stored in the parameters in the previous step should be cleared out first.\n",
    "        optimizer.zero_grad()\n",
    "\n",
    "        # Compute the gradients for parameters.\n",
    "        loss.backward()\n",
    "\n",
    "        # Clip the gradient norms for stable training.\n",
    "        grad_norm = nn.utils.clip_grad_norm_(model.parameters(), max_norm=10)\n",
    "\n",
    "        # Update the parameters with computed gradients.\n",
    "        optimizer.step()\n",
    "\n",
    "        # Compute the accuracy for current batch.\n",
    "        acc = (logits.argmax(dim=-1) == labels.to(device)).float().mean()\n",
    "\n",
    "        # Record the loss and accuracy.\n",
    "        train_loss.append(loss.item())\n",
    "        train_accs.append(acc)\n",
    "\n",
    "    # The average loss and accuracy of the training set is the average of the recorded values.\n",
    "    train_loss = sum(train_loss) / len(train_loss)\n",
    "    train_acc = sum(train_accs) / len(train_accs)\n",
    "\n",
    "    # Print the information.\n",
    "    print(f\"[ Train | {epoch + 1:03d}/{n_epochs:03d} ] loss = {train_loss:.5f}, acc = {train_acc:.5f}\", end='\\t')\n",
    "\n",
    "    # ---------- Validation ----------\n",
    "    # Make sure the model is in eval mode so that some modules like dropout are disabled and work normally.\n",
    "    model.eval()\n",
    "\n",
    "    # These are used to record information in validation.\n",
    "    valid_loss = []\n",
    "    valid_accs = []\n",
    "\n",
    "    # Iterate the validation set by batches.\n",
    "    for batch in valid_loader:\n",
    "\n",
    "        # A batch consists of image data and corresponding labels.\n",
    "        imgs, labels = batch\n",
    "\n",
    "        # We don't need gradient in validation.\n",
    "        # Using torch.no_grad() accelerates the forward process.\n",
    "        with torch.no_grad():\n",
    "          logits = model(imgs.to(device))\n",
    "\n",
    "        # We can still compute the loss (but not the gradient).\n",
    "        loss = criterion(logits, labels.to(device))\n",
    "\n",
    "        # Compute the accuracy for current batch.\n",
    "        acc = (logits.argmax(dim=-1) == labels.to(device)).float().mean()\n",
    "\n",
    "        # Record the loss and accuracy.\n",
    "        valid_loss.append(loss.item())\n",
    "        valid_accs.append(acc)\n",
    "\n",
    "    # The average loss and accuracy for entire validation set is the average of the recorded values.\n",
    "    valid_loss = sum(valid_loss) / len(valid_loss)\n",
    "    valid_acc = sum(valid_accs) / len(valid_accs)\n",
    "\n",
    "    # Print the information.\n",
    "    print(f\"[ Valid | {epoch + 1:03d}/{n_epochs:03d} ] loss = {valid_loss:.5f}, acc = {valid_acc:.5f}\")\n",
    "\n",
    "    if valid_acc > best_acc:\n",
    "        best_acc = valid_acc\n",
    "        print('save model')\n",
    "        torch.save(model.state_dict(), model_path)\n",
    "        if do_semi and epoch > 10:\n",
    "            # Obtain pseudo-labels for unlabeled data using trained model.\n",
    "            pseudo_set = get_pseudo_labels(unlabeled_set, model)\n",
    "\n",
    "            # Construct a new dataset and a data loader for training.\n",
    "            # This is used in semi-supervised learning only.\n",
    "            concat_dataset = ConcatDataset([train_set, pseudo_set])\n",
    "            train_loader = DataLoader(concat_dataset, batch_size=batch_size, shuffle=True, num_workers=8)\n",
    "    train_loss_record.append(train_loss)\n",
    "    valid_loss_record.append(valid_loss)\n",
    "    train_acc_record.append(train_acc.cpu())\n",
    "    valid_acc_record.append(valid_acc.cpu())"
   ]
  },
  {
   "cell_type": "code",
   "execution_count": 9,
   "metadata": {},
   "outputs": [
    {
     "data": {
      "image/png": "[encoded data removed]",
      "text/plain": [
       "<Figure size 864x288 with 2 Axes>"
      ]
     },
     "metadata": {
      "needs_background": "light"
     },
     "output_type": "display_data"
    }
   ],
   "source": [
    "import matplotlib.pyplot as plt\n",
    "\n",
    "x = np.arange(len(train_acc_record))\n",
    "plt.figure(figsize=(12, 4))\n",
    "plt.subplot(1, 2, 1)\n",
    "plt.plot(x, train_acc_record, color=\"blue\", label=\"Train\")\n",
    "plt.plot(x, valid_acc_record, color=\"red\", label=\"Valid\")\n",
    "plt.xlabel('epochs')\n",
    "plt.ylabel('accuracy')\n",
    "plt.legend(loc=\"upper right\")\n",
    "\n",
    "plt.subplot(1, 2, 2)\n",
    "plt.plot(x, train_loss_record, color=\"blue\", label=\"Train\")\n",
    "plt.plot(x, valid_loss_record, color=\"red\", label=\"Valid\")\n",
    "plt.xlabel('epochs')\n",
    "plt.ylabel('loss')\n",
    "plt.legend(loc=\"upper right\") \n",
    "\n",
    "plt.show()"
   ]
  },
  {
   "cell_type": "markdown",
   "metadata": {},
   "source": [
    "### anylze accuracy"
   ]
  },
  {
   "cell_type": "code",
   "execution_count": 10,
   "metadata": {},
   "outputs": [
    {
     "data": {
      "text/plain": [
       "<All keys matched successfully>"
      ]
     },
     "execution_count": 10,
     "metadata": {},
     "output_type": "execute_result"
    }
   ],
   "source": [
    "model = Classifier().to(device)\n",
    "model.load_state_dict(torch.load(model_path))"
   ]
  },
  {
   "cell_type": "code",
   "execution_count": 11,
   "metadata": {},
   "outputs": [],
   "source": [
    "val_prediction = np.zeros(shape=len(valid_set))\n",
    "val_label = np.zeros(shape=len(valid_set))\n",
    "for i, batch in enumerate(valid_loader):\n",
    "    # A batch consists of image data and corresponding labels.\n",
    "    imgs, labels = batch\n",
    "\n",
    "    # We don't need gradient in validation.\n",
    "    # Using torch.no_grad() accelerates the forward process.\n",
    "    with torch.no_grad():\n",
    "      logits = model(imgs.to(device))\n",
    "    \n",
    "    val_prediction[i*len(labels):(i+1)*len(labels)] = logits.argmax(dim=-1).cpu().numpy()\n",
    "    val_label[i*len(labels):(i+1)*len(labels)] = labels"
   ]
  },
  {
   "cell_type": "code",
   "execution_count": 12,
   "metadata": {},
   "outputs": [
    {
     "data": {
      "text/plain": [
       "Text(33.0, 0.5, 'real label')"
      ]
     },
     "execution_count": 12,
     "metadata": {},
     "output_type": "execute_result"
    },
    {
     "data": {
      "image/png": "[encoded data removed]",
      "text/plain": [
       "<Figure size 432x288 with 2 Axes>"
      ]
     },
     "metadata": {
      "needs_background": "light"
     },
     "output_type": "display_data"
    }
   ],
   "source": [
    "import seaborn as sns\n",
    "from sklearn.metrics import confusion_matrix\n",
    "\n",
    "val_materix = confusion_matrix(val_label, val_prediction)\n",
    "sns.heatmap(val_materix, annot=True).invert_yaxis()\n",
    "plt.xlabel('predict label')\n",
    "plt.ylabel('real label')"
   ]
  },
  {
   "cell_type": "markdown",
   "metadata": {
    "id": "2o1oCMXy61_3"
   },
   "source": [
    "## **Testing**\n",
    "\n",
    "For inference, we need to make sure the model is in eval mode, and the order of the dataset should not be shuffled (\"shuffle=False\" in test_loader).\n",
    "\n",
    "Last but not least, don't forget to save the predictions into a single CSV file.\n",
    "The format of CSV file should follow the rules mentioned in the slides.\n",
    "\n",
    "### **WARNING -- Keep in Mind**\n",
    "\n",
    "Cheating includes but not limited to:\n",
    "1.   using testing labels,\n",
    "2.   submitting results to previous Kaggle competitions,\n",
    "3.   sharing predictions with others,\n",
    "4.   copying codes from any creatures on Earth,\n",
    "5.   asking other people to do it for you.\n",
    "\n",
    "Any violations bring you punishments from getting a discount on the final grade to failing the course.\n",
    "\n",
    "It is your responsibility to check whether your code violates the rules.\n",
    "When citing codes from the Internet, you should know what these codes exactly do.\n",
    "You will **NOT** be tolerated if you break the rule and claim you don't know what these codes do.\n"
   ]
  },
  {
   "cell_type": "code",
   "execution_count": 13,
   "metadata": {
    "id": "4HznI9_-ocrq"
   },
   "outputs": [],
   "source": [
    "# Make sure the model is in eval mode.\n",
    "# Some modules like Dropout or BatchNorm affect if the model is in training mode.\n",
    "model.eval()\n",
    "\n",
    "# Initialize a list to store the predictions.\n",
    "predictions = []\n",
    "\n",
    "# Iterate the testing set by batches.\n",
    "for batch in test_loader:\n",
    "    # A batch consists of image data and corresponding labels.\n",
    "    # But here the variable \"labels\" is useless since we do not have the ground-truth.\n",
    "    # If printing out the labels, you will find that it is always 0.\n",
    "    # This is because the wrapper (DatasetFolder) returns images and labels for each batch,\n",
    "    # so we have to create fake labels to make it work normally.\n",
    "    imgs, labels = batch\n",
    "\n",
    "    # We don't need gradient in testing, and we don't even have labels to compute loss.\n",
    "    # Using torch.no_grad() accelerates the forward process.\n",
    "    with torch.no_grad():\n",
    "        logits = model(imgs.to(device))\n",
    "\n",
    "    # Take the class with greatest logit as prediction and record it.\n",
    "    predictions.extend(logits.argmax(dim=-1).cpu().numpy().tolist())"
   ]
  },
  {
   "cell_type": "code",
   "execution_count": 14,
   "metadata": {
    "id": "3t2q2Th85ZUE"
   },
   "outputs": [],
   "source": [
    "# Save predictions into the file.\n",
    "with open(\"predict.csv\", \"w\") as f:\n",
    "\n",
    "    # The first row must be \"Id, Category\"\n",
    "    f.write(\"Id,Category\\n\")\n",
    "\n",
    "    # For the rest of the rows, each image id corresponds to a predicted class.\n",
    "    for i, pred in  enumerate(predictions):\n",
    "         f.write(f\"{i},{pred}\\n\")"
   ]
  }
 ],
 "metadata": {
  "accelerator": "GPU",
  "colab": {
   "collapsed_sections": [],
   "name": "HW03.ipynb",
   "provenance": [],
   "toc_visible": true
  },
  "kernelspec": {
   "display_name": "pytorch 1.9.0",
   "language": "python",
   "name": "pytorch"
  },
  "language_info": {
   "codemirror_mode": {
    "name": "ipython",
    "version": 3
   },
   "file_extension": ".py",
   "mimetype": "text/x-python",
   "name": "python",
   "nbconvert_exporter": "python",
   "pygments_lexer": "ipython3",
   "version": "3.8.10"
  }
 },
 "nbformat": 4,
 "nbformat_minor": 4
}
